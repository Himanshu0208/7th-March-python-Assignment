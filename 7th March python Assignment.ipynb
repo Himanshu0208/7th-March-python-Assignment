{
 "cells": [
  {
   "cell_type": "markdown",
   "id": "78b570a4-d9d0-432b-a91b-8f6faa296427",
   "metadata": {},
   "source": [
    "# __Ques 1__\n",
    "the three measures of central tendency are:-\n",
    "1. mean\n",
    "2. mode\n",
    "3. median"
   ]
  },
  {
   "cell_type": "markdown",
   "id": "e3d40776-f910-4c5a-a0bd-0b188f7155ff",
   "metadata": {},
   "source": [
    "# __Ques 2__\n",
    "1. __mean:__ It is the avg value of teh whole data we use this when their is no outlier in the data set, formula for mean is = (sum of all obsevation)/(total no. of observation)<br><br>\n",
    "2. __median:__ It show the central value of the data set, it is used to know teh central value of the data set when their are outliers in teh data set, to calculate meadian first sort teh data now is teh no of observation is even than take teh avg of n/2 and (n+2)/2 observation else just the (n+1)/2 observation will be teh median <br><br>\n",
    "3. __mode:__ The value with the highest frequency is the mode of the data set, it is used in fill the blank data of categorical data set "
   ]
  },
  {
   "cell_type": "markdown",
   "id": "a9737320-4d6c-46ec-855a-59e73a97758a",
   "metadata": {},
   "source": [
    "# __Ques 3__"
   ]
  },
  {
   "cell_type": "code",
   "execution_count": 9,
   "id": "2a9ecccd-02a8-4f4f-a9f6-a3c2d005387a",
   "metadata": {},
   "outputs": [
    {
     "name": "stdout",
     "output_type": "stream",
     "text": [
      "Mean : 177.01875\n",
      "Median : 177.0\n",
      "Mode : ModeResult(mode=177.0, count=3)\n"
     ]
    }
   ],
   "source": [
    "import numpy as np\n",
    "from scipy import stats\n",
    "\n",
    "data = [178,177,176,177,178.2,178,175,179,180,175,178.9,176.2,177,172.5,178,176.5]\n",
    "print('Mean :',np.mean(data))\n",
    "print('Median :',np.median(data))\n",
    "print('Mode :',stats.mode(data , keepdims=False))"
   ]
  },
  {
   "cell_type": "markdown",
   "id": "0f7e11a9-9bab-4a28-8c87-d3cec20a3e58",
   "metadata": {},
   "source": [
    "# __Ques 4__"
   ]
  },
  {
   "cell_type": "code",
   "execution_count": 10,
   "id": "61c5022e-6103-471a-9144-da56d68ef643",
   "metadata": {},
   "outputs": [
    {
     "name": "stdout",
     "output_type": "stream",
     "text": [
      "Standard Deviation : 1.7885814036548633\n"
     ]
    }
   ],
   "source": [
    "data2 = [178,177,176,177,178.2,178,175,179,180,175,178.9,176.2,177,172.5,178,176.5]\n",
    "print('Standard Deviation :',np.std(data2))"
   ]
  },
  {
   "cell_type": "markdown",
   "id": "91c00d5b-1c56-4eeb-96d6-903b3de5c2d3",
   "metadata": {
    "tags": []
   },
   "source": [
    "# __Ques 5__\n",
    "#### __Range__\n",
    "The range is a statistical measure that describes the spread or dispersion of a data set. It is calculated by subtracting the smallest value from the largest value in the data set. The range provides an indication of how much variability there is in the data, and how widely the values are distributed.\n",
    "\n",
    "For example, if a data set includes the following values: 2, 5, 8, 10, 12, the range would be calculated as follows:\n",
    "\n",
    "Range = Largest value - Smallest value\n",
    "= 12 - 2\n",
    "= 10\n",
    "\n",
    "So, the range of this data set is 10. This means that the values in the data set are spread out over a range of 10 units, from the smallest value of 2 to the largest value of 12.\n",
    "\n",
    "Range is a useful measure of dispersion, but it does have limitations. It is heavily influenced by outliers or extreme values in the data set, and it does not take into account the distribution of values within the range. Therefore, it is often used in conjunction with other measures of dispersion, such as the interquartile range or standard deviation, to provide a more complete description of the data set."
   ]
  },
  {
   "cell_type": "markdown",
   "id": "1d84fc9a-e457-4c2f-97f1-9a20cc7b562a",
   "metadata": {},
   "source": [
    "#### __Variance__\n",
    "Variance is a statistical measure used to describe the spread or variability of a dataset. Specifically, variance measures how far each value in a dataset is from the mean (average) value of the dataset.\n",
    "\n",
    "A high variance indicates that the data points are widely dispersed, while a low variance indicates that the data points are clustered closely together. In other words, a high variance suggests that the data set has a large range of values, while a low variance suggests that the data set has a small range of values.\n",
    "\n",
    "Variance is commonly used in many fields, including finance, economics, engineering, and science, to analyze data and make decisions. For example, in finance, variance is used to measure the risk of a particular investment, where a high variance indicates a high level of risk. In scientific research, variance is used to evaluate the reliability of experimental data, where a low variance indicates that the data is consistent and precise."
   ]
  },
  {
   "cell_type": "markdown",
   "id": "7a1f5f26-ece1-45e0-af21-d8f21b3476db",
   "metadata": {},
   "source": [
    "#### __Standard Deviation__\n",
    "Standard deviation is a measure of how spread out a set of data is from the mean (average). It is used to describe the variability or dispersion of a data set.\n",
    "\n",
    "If the standard deviation is low, it means that the data points are clustered closely around the mean, indicating that the data is less spread out or more consistent. On the other hand, if the standard deviation is high, it means that the data points are more spread out, indicating greater variability or inconsistency.\n",
    "\n",
    "For example, let's say we have two data sets representing the grades of two different classes on a test. The first class has a mean score of 80 and a standard deviation of 5, while the second class has a mean score of 80 but a standard deviation of 15. This means that the first class had more consistent scores, with most students scoring within a range of 5 points from the mean, while the second class had more variability, with some students scoring much higher or lower than the mean.\n",
    "\n",
    "Overall, standard deviation is a useful tool for describing the spread or dispersion of data, and can help us understand how consistent or variable a set of data is."
   ]
  },
  {
   "cell_type": "markdown",
   "id": "6dac42fb-7d2c-435c-ade2-7bb19007fecd",
   "metadata": {
    "tags": []
   },
   "source": [
    "# __Ques 6__\n",
    "A venn diagram is a method of representing the sets diagramatically, in this there is a rectangular box which represented the whole universere(U) and in that rectangular box there are circle representing the sets is two circle overlap this means that those two set have some common data values "
   ]
  },
  {
   "cell_type": "markdown",
   "id": "31238813-5bb0-42bf-8c0e-59c3768460ce",
   "metadata": {},
   "source": [
    "# __Ques 7__"
   ]
  },
  {
   "cell_type": "code",
   "execution_count": 11,
   "id": "4280d4b0-00b6-4441-b7c6-c96745b26a18",
   "metadata": {},
   "outputs": [],
   "source": [
    "A = {2,3,4,5,6,7}\n",
    "B = {0,2,6,8,10}"
   ]
  },
  {
   "cell_type": "code",
   "execution_count": 12,
   "id": "590eb75b-3dd9-42fd-8e41-7cd429022406",
   "metadata": {},
   "outputs": [
    {
     "data": {
      "text/plain": [
       "{2, 6}"
      ]
     },
     "execution_count": 12,
     "metadata": {},
     "output_type": "execute_result"
    }
   ],
   "source": [
    "# A ^ B\n",
    "A.intersection(B)"
   ]
  },
  {
   "cell_type": "code",
   "execution_count": 13,
   "id": "ab1bae14-4e05-42f4-a36b-c6d4688c5ae8",
   "metadata": {},
   "outputs": [
    {
     "data": {
      "text/plain": [
       "{0, 2, 3, 4, 5, 6, 7, 8, 10}"
      ]
     },
     "execution_count": 13,
     "metadata": {},
     "output_type": "execute_result"
    }
   ],
   "source": [
    "# A V B\n",
    "A.union(B)"
   ]
  },
  {
   "cell_type": "markdown",
   "id": "d80f4166-9e4d-4311-9dc3-3af570290f00",
   "metadata": {},
   "source": [
    "# __Ques 8__\n",
    "Skweens tells us about the relation of mean , median and mode in the distribution it also tell us about the relation between Q3-Q2 and and Q2-Q1, it tell us how much skweed our data is i.e how the value of 1st half differ from second half   "
   ]
  },
  {
   "cell_type": "markdown",
   "id": "3e017d2f-1ded-43d8-9660-7973c4b2ea4c",
   "metadata": {
    "tags": []
   },
   "source": [
    "# __Ques 9__\n",
    "for a right skweed mode > median > mean , i.e the median will be present to the left side of mean"
   ]
  },
  {
   "cell_type": "markdown",
   "id": "0d3678fe-3409-4760-8787-a144aac0f053",
   "metadata": {},
   "source": [
    "# __Ques 10__\n",
    "covariance and correlation are nearly the same thing, i.e., they both show the relationship between two random variables the only diffrence between them is that covariance does not have any limit hence we cannot tell how much large the two random variable are related while corelation have a range genrally that is -1 to 1 where the more the correaltion is near to +1 the more positive sorrelated two variables are and the more the correaltion is near to -1 the more negative correlated two variables are<br><br>\n",
    "Two Calculate the covarince and correlation:-\n",
    "1. Covariance: &sum; (Xi - mean of X)(Yi - Mean of Y)/n-1\n",
    "2. Correlation : Covariance(X,Y)/Standard Devation of X * Standard Devaiation of Y"
   ]
  },
  {
   "cell_type": "markdown",
   "id": "51ed28f3-eccc-4be7-9d73-f6da221a5094",
   "metadata": {},
   "source": [
    "# __Ques 11__\n",
    "for mean = (sum of all observation)/total number of observation"
   ]
  },
  {
   "cell_type": "code",
   "execution_count": 15,
   "id": "a204fc6b-eae4-46fe-8e5b-a936200aea67",
   "metadata": {},
   "outputs": [
    {
     "name": "stdout",
     "output_type": "stream",
     "text": [
      "Mean calculated from above mentioned formula is 2.5\n",
      "Mean calculated form numpy is 2.5\n"
     ]
    }
   ],
   "source": [
    "import numpy as np\n",
    "data2 = [1,2,3,4]\n",
    "\n",
    "sum = 0\n",
    "count = len(data2)\n",
    "for i in data2:\n",
    "    sum += i\n",
    "    \n",
    "print('Mean calculated from above mentioned formula is' , (sum/count))\n",
    "print('Mean calculated form numpy is',np.mean(data2))"
   ]
  },
  {
   "cell_type": "markdown",
   "id": "8681a461-fd9b-4664-a945-3ce462c003b9",
   "metadata": {},
   "source": [
    "# __Ques 12__\n",
    "for a normal distribution teh measure of central tendency viz, mean , median and mode all are equal"
   ]
  },
  {
   "cell_type": "markdown",
   "id": "97570590-e333-498d-8c1b-c4d29c0c1f26",
   "metadata": {},
   "source": [
    "# __Ques 13__\n",
    "covariance and correlation are nearly the same thing, i.e., they both show the relationship between two random variables the only diffrence between them is that covariance does not have any limit hence we cannot tell how much large the two random variable are related while corelation have a range genrally that is -1 to 1 where the more the correaltion is near to +1 the more positive sorrelated two variables are and the more the correaltion is near to -1 the more negative correlated two variables are"
   ]
  },
  {
   "cell_type": "markdown",
   "id": "ecfadf56-62b9-4acc-9b4f-e774955dc16d",
   "metadata": {},
   "source": [
    "# __Ques 14__\n",
    "Becuase of Outliers &sum; Xi become very large hence the mean is affected verymuch hence teh measure of sentral tendency go affected<br>\n",
    "Because of Outliers &sum; (Xi - mean X)^2 get increased by a huge amount hence the variance get highly affected and standard deviation also get affected as a result measure of dispersion get affected"
   ]
  },
  {
   "cell_type": "code",
   "execution_count": 2,
   "id": "a07e8b81-6974-4fb1-9850-8861af47d799",
   "metadata": {},
   "outputs": [
    {
     "name": "stdout",
     "output_type": "stream",
     "text": [
      "Mean without outlier 3.0\n",
      "Variance without outlier 2.0\n",
      "Standard Deviation without outlier 1.4142135623730951\n"
     ]
    }
   ],
   "source": [
    "import numpy as np\n",
    "data3 = [1,2,3,4,5]\n",
    "print('Mean without outlier' , np.mean(data3))\n",
    "print('Variance without outlier' , np.var(data3))\n",
    "print('Standard Deviation without outlier' , np.std(data3))"
   ]
  },
  {
   "cell_type": "code",
   "execution_count": 3,
   "id": "b8b3dec3-17e7-4622-bc92-9bbeea36431b",
   "metadata": {},
   "outputs": [
    {
     "name": "stdout",
     "output_type": "stream",
     "text": [
      "Mean with outlier 19.166666666666668\n",
      "Variance with outlier 1308.4722222222222\n",
      "Standard Deviation with outlier 36.17281053805775\n"
     ]
    }
   ],
   "source": [
    "data4 = [1,2,3,4,5,100]\n",
    "print('Mean with outlier' , np.mean(data4))\n",
    "print('Variance with outlier' , np.var(data4))\n",
    "print('Standard Deviation with outlier' , np.std(data4))"
   ]
  }
 ],
 "metadata": {
  "kernelspec": {
   "display_name": "Python 3 (ipykernel)",
   "language": "python",
   "name": "python3"
  },
  "language_info": {
   "codemirror_mode": {
    "name": "ipython",
    "version": 3
   },
   "file_extension": ".py",
   "mimetype": "text/x-python",
   "name": "python",
   "nbconvert_exporter": "python",
   "pygments_lexer": "ipython3",
   "version": "3.10.8"
  }
 },
 "nbformat": 4,
 "nbformat_minor": 5
}
